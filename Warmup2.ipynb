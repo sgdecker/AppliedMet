{
 "cells": [
  {
   "cell_type": "code",
   "execution_count": null,
   "metadata": {},
   "outputs": [],
   "source": [
    "import datetime as dt\n",
    "\n",
    "import numpy as np\n",
    "import xarray as xr\n",
    "from xarray.backends import NetCDF4DataStore\n",
    "import matplotlib.pyplot as plt\n",
    "import cartopy.crs as ccrs\n",
    "import cartopy.feature as cfeature\n",
    "from scipy.ndimage import generic_filter\n",
    "\n",
    "from siphon.catalog import TDSCatalog\n",
    "from metpy.units import units\n",
    "%matplotlib inline"
   ]
  },
  {
   "cell_type": "code",
   "execution_count": null,
   "metadata": {},
   "outputs": [],
   "source": [
    "def obtain_narr_access():\n",
    "    url = 'http://atlas.niu.edu:8080/thredds/catalog/grib/NARR/catalog.xml'\n",
    "    cat = TDSCatalog(url)\n",
    "    cat_ds = cat.datasets['Full Collection Dataset']\n",
    "    subset_access = cat_ds.subset()\n",
    "    return subset_access"
   ]
  },
  {
   "cell_type": "code",
   "execution_count": null,
   "metadata": {},
   "outputs": [],
   "source": [
    "def obtain_dataset(access, name, level, box, wanted_dt):\n",
    "    query = access.query()\n",
    "    query.variables(name)\n",
    "    query.vertical_level(level)\n",
    "    query.lonlat_box(*box)\n",
    "    query.time(wanted_dt)\n",
    "    query.accept('netcdf4')\n",
    "    \n",
    "    nc = access.get_data(query)\n",
    "    ds = xr.open_dataset(NetCDF4DataStore(nc))\n",
    "    dat = ds.metpy.parse_cf(name)\n",
    "    return dat"
   ]
  },
  {
   "cell_type": "code",
   "execution_count": null,
   "metadata": {},
   "outputs": [],
   "source": [
    "def get_narr_proj_info(ds):\n",
    "    proj = ds.metpy.cartopy_crs\n",
    "    x = ds.metpy.x\n",
    "    y = ds.metpy.y\n",
    "    return proj, x, y"
   ]
  },
  {
   "cell_type": "code",
   "execution_count": null,
   "metadata": {},
   "outputs": [],
   "source": [
    "def get_time_range(center, r):\n",
    "    times = (center + dt.timedelta(i) for i in range(-r, r+1))\n",
    "    return times"
   ]
  },
  {
   "cell_type": "code",
   "execution_count": null,
   "metadata": {},
   "outputs": [],
   "source": [
    "def get_grid_at_time(data, access, t):\n",
    "    name = 'Temperature_height_above_ground'\n",
    "    box = (-125, -75, 20, 55)\n",
    "    try:\n",
    "        res = data[t].copy()\n",
    "    except KeyError:\n",
    "        ds = obtain_dataset(access, name, 2., box, t)\n",
    "        data[t] = ds[0,0,:].copy()\n",
    "        res = data[t].copy()\n",
    "    return res, data"
   ]
  },
  {
   "cell_type": "code",
   "execution_count": null,
   "metadata": {},
   "outputs": [],
   "source": [
    "def compute_mean(access, data, center, n):\n",
    "    name = 'Temperature_height_above_ground'\n",
    "    plusminus = n // 2\n",
    "    times = list(get_time_range(center, plusminus))\n",
    "    \n",
    "    running_tot, data = get_grid_at_time(data, access, times[0])\n",
    "\n",
    "    for t in times[1:]:\n",
    "        grid, data = get_grid_at_time(data, access, t)\n",
    "        running_tot += grid\n",
    "    \n",
    "    res = running_tot / n\n",
    "    return res, data"
   ]
  },
  {
   "cell_type": "code",
   "execution_count": null,
   "metadata": {},
   "outputs": [],
   "source": [
    "narr_access = obtain_narr_access()"
   ]
  },
  {
   "cell_type": "code",
   "execution_count": null,
   "metadata": {},
   "outputs": [],
   "source": [
    "first_date = dt.datetime(1979, 1, 3, 0)\n",
    "last_date = dt.datetime(2018, 12, 29, 0)\n",
    "temp_store = {}"
   ]
  },
  {
   "cell_type": "code",
   "execution_count": null,
   "metadata": {},
   "outputs": [],
   "source": [
    "# NARR is roughly 32 km grid spacing.  Determine number of gridpoints equal to 1000 km\n",
    "s = 1000 // 32\n",
    "\n",
    "biggest_inc = 0\n",
    "i = 0\n",
    "d = first_date\n",
    "while d < last_date:\n",
    "    mean1, temp_store = compute_mean(narr_access, temp_store, d, 5)\n",
    "    mean2, temp_store = compute_mean(narr_access, temp_store, d+dt.timedelta(5), 5)\n",
    "    change = mean2 - mean1\n",
    "    smooth_change = generic_filter(change, np.mean, size=s, mode='constant')\n",
    "    max_inc = np.nanmax(smooth_change)\n",
    "    if max_inc > biggest_inc:\n",
    "        print('New warmup:', d, max_inc)\n",
    "        biggest_inc = max_inc\n",
    "        biggest_info = (mean1, mean2, smooth_change, d)\n",
    "    d += dt.timedelta(1)\n",
    "    i += 1\n",
    "    if i % 50 == 0:\n",
    "        print(d)"
   ]
  },
  {
   "cell_type": "code",
   "execution_count": null,
   "metadata": {},
   "outputs": [],
   "source": [
    "data_proj, lon, lat = get_narr_proj_info(temp_store[first_date])"
   ]
  },
  {
   "cell_type": "code",
   "execution_count": null,
   "metadata": {},
   "outputs": [],
   "source": [
    "def plot_background(ax):\n",
    "    ax.set_extent((-125, -73, 25, 52), crs=ccrs.PlateCarree())\n",
    "    ax.add_feature(cfeature.COASTLINE.with_scale('50m'), linewidth=0.5)\n",
    "    ax.add_feature(cfeature.STATES, linewidth=0.5)\n",
    "    ax.add_feature(cfeature.BORDERS, linewidth=0.5)\n",
    "    return ax"
   ]
  },
  {
   "cell_type": "code",
   "execution_count": null,
   "metadata": {},
   "outputs": [],
   "source": [
    "crs = ccrs.LambertConformal(central_longitude=-100)\n",
    "fig, axarr = plt.subplots(nrows=3, ncols=1, figsize=(13, 20), constrained_layout=True,\n",
    "                          subplot_kw={'projection': crs})\n",
    "\n",
    "for ax in axarr:\n",
    "    plot_background(ax)\n",
    "\n",
    "levels = np.arange(240,330,5)\n",
    "    \n",
    "cf1 = axarr[0].contourf(lon, lat, biggest_info[0], cmap='jet', transform=data_proj, levels=levels)\n",
    "axarr[0].set_title('Day 1-5 Mean Temperature', fontsize=16)\n",
    "cb1 = fig.colorbar(cf1, ax=axarr[0], orientation='horizontal', shrink=0.35, pad=0)\n",
    "cb1.set_label('K', size='x-large')\n",
    "\n",
    "cf2 = axarr[1].contourf(lon, lat, biggest_info[1], cmap='jet', transform=data_proj, levels=levels)\n",
    "axarr[1].set_title('Day 6-10 Mean Temperature', fontsize=16)\n",
    "cb2 = fig.colorbar(cf2, ax=axarr[1], orientation='horizontal', shrink=0.35, pad=0)\n",
    "cb2.set_label('K', size='x-large')\n",
    "\n",
    "levels = np.arange(-20,21,1)\n",
    "cf3 = axarr[2].contourf(lon, lat, biggest_info[2], cmap='bwr', transform=data_proj, levels=levels)\n",
    "axarr[2].set_title('Warmup', fontsize=16)\n",
    "cb3 = fig.colorbar(cf3, ax=axarr[2], orientation='horizontal', shrink=0.35, pad=0)\n",
    "cb3.set_label('K', size='x-large')\n",
    "\n",
    "fig.set_constrained_layout_pads(w_pad=0., h_pad=0.1, hspace=0., wspace=0.)\n",
    "fig.suptitle(biggest_info[3].strftime('%d %B %Y %H:%MZ'), fontsize=24)\n",
    "\n",
    "plt.show()"
   ]
  }
 ],
 "metadata": {
  "kernelspec": {
   "display_name": "Python 3",
   "language": "python",
   "name": "python3"
  },
  "language_info": {
   "codemirror_mode": {
    "name": "ipython",
    "version": 3
   },
   "file_extension": ".py",
   "mimetype": "text/x-python",
   "name": "python",
   "nbconvert_exporter": "python",
   "pygments_lexer": "ipython3",
   "version": "3.6.6"
  }
 },
 "nbformat": 4,
 "nbformat_minor": 2
}
